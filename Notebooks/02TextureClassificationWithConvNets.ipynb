{
  "nbformat": 4,
  "nbformat_minor": 0,
  "metadata": {
    "colab": {
      "name": "02TextureClassificationWithConvNets.ipynb",
      "version": "0.3.2",
      "provenance": []
    },
    "kernelspec": {
      "display_name": "Python 2",
      "language": "python",
      "name": "python2"
    },
    "accelerator": "GPU"
  },
  "cells": [
    {
      "metadata": {
        "id": "a7scg4EGMfYk",
        "colab_type": "text"
      },
      "cell_type": "markdown",
      "source": [
        "# Tissue Classification using Neural Networks\n",
        "In this lab we will explore the use of texture in images and traditional machine learning approaches such as clustering. The dataset we will be using is available here: http://dx.doi.org/10.5281/zenodo.53169. \n",
        "\n",
        "![alt text](https://www.researchgate.net/profile/Jakob_Kather/publication/303998214/figure/fig7/AS:391073710002224@1470250646407/Representative-images-from-our-dataset-Here-the-first-10-images-of-every-tissue-class.png)\n",
        "\n",
        "The above figure shows the 8 different classes of tissue we will be trying to identify. "
      ]
    },
    {
      "metadata": {
        "id": "W86Oi6dCMfYp",
        "colab_type": "code",
        "colab": {}
      },
      "cell_type": "code",
      "source": [
        "# Imports\n",
        "from __future__ import print_function\n",
        "import os\n",
        "import numpy as np\n",
        "import tensorflow as tf\n",
        "import matplotlib.pylab as plt\n",
        "from sklearn.model_selection import train_test_split\n",
        "from tensorflow.keras import Sequential\n",
        "from tensorflow.keras.layers import Dense\n",
        "from tensorflow.keras.layers import Flatten\n",
        "from tensorflow.keras.layers import Conv2D\n",
        "from tensorflow.keras.layers import Dropout\n",
        "from tensorflow.keras.layers import MaxPool2D\n",
        "from tensorflow.keras.optimizers import SGD\n",
        "from tensorflow.keras.utils import to_categorical"
      ],
      "execution_count": 0,
      "outputs": []
    },
    {
      "metadata": {
        "id": "DfDmvdh7MfYx",
        "colab_type": "text"
      },
      "cell_type": "markdown",
      "source": [
        "## Step 1\n",
        "* Load the data (done for you)\n",
        " * The \"data\" variable stores 5000 images of shape 150x150. This means data has shape (5000, 150, 150). These images are loaded here as grayscale.\n",
        " * The \"labels\" variable stores 5000 labels (0-7). This means \"labels\" has shape (5000,)\n",
        "* Split data into training and testing subsets (left up to you)\n",
        " * Check out the sklearn function train_test_split from sklearn.model_selection"
      ]
    },
    {
      "metadata": {
        "id": "vTPG58OXMfYz",
        "colab_type": "code",
        "colab": {
          "base_uri": "https://localhost:8080/",
          "height": 34
        },
        "outputId": "cdc221aa-1508-4abd-f7f1-d79159b7a9f3"
      },
      "cell_type": "code",
      "source": [
        "! git clone https://github.com/BeaverWorksMedlytics/Week3_public.git\n",
        "\n",
        "# Build the path to the data folder. No need to change directories\n",
        "# There are a total of 6 files you will have to load\n",
        "data_dir = os.path.join( os.getcwd(), 'Week3_public', 'data', 'crc')"
      ],
      "execution_count": 49,
      "outputs": [
        {
          "output_type": "stream",
          "text": [
            "fatal: destination path 'Week3_public' already exists and is not an empty directory.\r\n"
          ],
          "name": "stdout"
        }
      ]
    },
    {
      "metadata": {
        "id": "mF4iIwc8MfY4",
        "colab_type": "code",
        "colab": {
          "base_uri": "https://localhost:8080/",
          "height": 204
        },
        "outputId": "56402c1f-483c-4ab6-b1d9-14b6c5420a27"
      },
      "cell_type": "code",
      "source": [
        "s = 64 #80\n",
        "\n",
        "# Load data and split into training, testing sets\n",
        "y = np.load(os.path.join(data_dir, 'rgb01.npz'))\n",
        "labels = y['labels']\n",
        "data = y['rgb_data']\n",
        "data = data[:,:s,:s,0]\n",
        "label_str = y['label_str']\n",
        "label_str = label_str.tolist() # this is to convert label_str back to a dictionary\n",
        "y = []\n",
        "\n",
        "print(data.shape)\n",
        "for ii in range(2,6):\n",
        "    filename = os.path.join(data_dir, 'rgb0' + str(ii) + '.npz')\n",
        "    print('loading ', filename)\n",
        "    y = np.load(filename)\n",
        "    labels = np.append(labels, y['labels'], axis=0)\n",
        "    data = np.append(data, y['rgb_data'][:,:s,:s,0], axis=0)\n",
        "    print(data.shape)\n",
        "    y = []\n",
        "\n",
        "\n",
        "print( data.shape )\n",
        "print( labels.shape )"
      ],
      "execution_count": 50,
      "outputs": [
        {
          "output_type": "stream",
          "text": [
            "(1000, 64, 64)\n",
            "loading  /content/Week3_public/data/crc/rgb02.npz\n",
            "(2000, 64, 64)\n",
            "loading  /content/Week3_public/data/crc/rgb03.npz\n",
            "(3000, 64, 64)\n",
            "loading  /content/Week3_public/data/crc/rgb04.npz\n",
            "(4000, 64, 64)\n",
            "loading  /content/Week3_public/data/crc/rgb05.npz\n",
            "(5000, 64, 64)\n",
            "(5000, 64, 64)\n",
            "(5000,)\n"
          ],
          "name": "stdout"
        }
      ]
    },
    {
      "metadata": {
        "id": "EnTT4tyXMfY9",
        "colab_type": "code",
        "colab": {}
      },
      "cell_type": "code",
      "source": [
        "num_images, nrows, ncols = data.shape\n",
        "\n",
        "# convert the labels from 1-D arrays to categorical type \n",
        "labels = to_categorical(labels)"
      ],
      "execution_count": 0,
      "outputs": []
    },
    {
      "metadata": {
        "id": "PtlCeN4FMfZD",
        "colab_type": "text"
      },
      "cell_type": "markdown",
      "source": [
        "## Normalize data\n",
        "All images should be normalized to the range 0-1 by dividing by 255.\n",
        "\n",
        "#### Note\n",
        "* Using the La\\*b colorspace : If you convert your images to the La\\*b colorspace, the scaling factor will change. Each channel in this colorspace will have a different range and normalization of each space will involve scaling each channel separately. Additionally, the a\\* channel can have a negative range. This also needs to be taken into account. \n",
        "* Using the HSV/HSI colorspace : Similar considerations apply if you are using the HSV/HSI colorspace. The only difference is that the HSV/HSI colorspace will have all positive values."
      ]
    },
    {
      "metadata": {
        "id": "_FeL1EP5MfZF",
        "colab_type": "code",
        "colab": {}
      },
      "cell_type": "code",
      "source": [
        "# Assuming we are using the RGB colorspace\n",
        "# Normalize all images so that they are 0-1\n",
        "data = data/255.\n",
        "\n",
        "# Reshape the data \n",
        "data = data.reshape(5000,nrows,ncols,1)"
      ],
      "execution_count": 0,
      "outputs": []
    },
    {
      "metadata": {
        "id": "L0kqv5z4lmTv",
        "colab_type": "code",
        "colab": {}
      },
      "cell_type": "code",
      "source": [
        "# split into training and testing sets\n",
        "train_data, test_data, train_labels, test_labels = train_test_split(data, labels, test_size=0.2)\n",
        "train_data, val_data, train_labels, val_labels = train_test_split(train_data, train_labels)\n",
        "data = None"
      ],
      "execution_count": 0,
      "outputs": []
    },
    {
      "metadata": {
        "id": "M3mSMITkmF-2",
        "colab_type": "code",
        "colab": {
          "base_uri": "https://localhost:8080/",
          "height": 34
        },
        "outputId": "116302e4-f5f0-41aa-f152-dcd9c56b7b3f"
      },
      "cell_type": "code",
      "source": [
        "print(train_data.shape, val_data.shape, test_data.shape)"
      ],
      "execution_count": 54,
      "outputs": [
        {
          "output_type": "stream",
          "text": [
            "(3000, 64, 64, 1) (1000, 64, 64, 1) (1000, 64, 64, 1)\n"
          ],
          "name": "stdout"
        }
      ]
    },
    {
      "metadata": {
        "id": "QAgbBOzBMfZI",
        "colab_type": "text"
      },
      "cell_type": "markdown",
      "source": [
        "## Step 2\n",
        "At this point, the data has been split into training and testing sets and normalized. We will now design a fully connected neural network for texture classification. \n",
        "\n",
        "\n",
        "![alt text](http://adventuresinmachinelearning.com/wp-content/uploads/2017/04/CNN-example-block-diagram.jpg)\n",
        "\n",
        "\n",
        "( Image from http://adventuresinmachinelearning.com/keras-tutorial-cnn-11-lines/ )\n",
        "\n",
        "When designing a fully connected network for classification, we have several decisions to make.\n",
        "\n",
        "**Network Architecuture**\n",
        "* How many layers will our network have ?\n",
        "* How many convolutional filters per layer ?\n",
        "    * What is an appropriate filter size ? \n",
        "* What is an appropriate batch size, learning rate and number of training epochs ?\n",
        "\n",
        "**Data input**\n",
        "* Do we use the raw data ?\n",
        "    * RGB or just gray channel ?\n",
        "* Does the use of different colorspaces lead to better results for a given network architecture ?\n",
        "* Can we use any of the texture features from the previous lab as inputs to this model ?\n",
        "* How does data augmentation affect the results ? \n",
        "\n",
        "Other considerations, we will not be exploring :\n",
        "* What is the trade-off between input data sizes and batch size ?\n",
        "* Is the GPU always the appropriate platform for training ?\n",
        "* How does hardware influence inputs and batch sizes for a given desired accuracy ?"
      ]
    },
    {
      "metadata": {
        "id": "82ImTGQ_MfZJ",
        "colab_type": "code",
        "colab": {}
      },
      "cell_type": "code",
      "source": [
        "# Define the data shapes based on your decision to use rgb or grayscale or other colorpsaces or texture features or \n",
        "# some combination of these inputs\n",
        "num_classes = 8 \n",
        "input_shape = nrows, ncols, 1\n",
        "#train_data = train_data.reshape(train_data.shape[0], nrows, ncols, 1)\n",
        "#test_data = test_data.reshape(test_data.shape[0], nrows, ncols, 1)"
      ],
      "execution_count": 0,
      "outputs": []
    },
    {
      "metadata": {
        "id": "Q2iSGtOuMfZP",
        "colab_type": "text"
      },
      "cell_type": "markdown",
      "source": [
        "## Step 3\n",
        "Design your network here using Keras"
      ]
    },
    {
      "metadata": {
        "id": "2HHVbrVjdc9z",
        "colab_type": "code",
        "colab": {
          "base_uri": "https://localhost:8080/",
          "height": 34
        },
        "outputId": "f15d2243-b702-4318-9e8e-708737acd87a"
      },
      "cell_type": "code",
      "source": [
        "input_shape"
      ],
      "execution_count": 56,
      "outputs": [
        {
          "output_type": "execute_result",
          "data": {
            "text/plain": [
              "(64, 64, 1)"
            ]
          },
          "metadata": {
            "tags": []
          },
          "execution_count": 56
        }
      ]
    },
    {
      "metadata": {
        "id": "OsffMC7mMfZQ",
        "colab_type": "code",
        "colab": {
          "base_uri": "https://localhost:8080/",
          "height": 544
        },
        "outputId": "ab637d82-ea7f-4b2f-b377-7d10f44ce99b"
      },
      "cell_type": "code",
      "source": [
        "# Create your network\n",
        "model = []\n",
        "model = Sequential()\n",
        "\n",
        "# Add input layer\n",
        "model.add(Conv2D(filters=18, kernel_size=3, activation='relu', padding='same', input_shape=input_shape))\n",
        "\n",
        "# Add fully connected layers \n",
        "# See keras.io for Conv2D, MaxPool2D, Dropout documentation\n",
        "model.add(Dense(64, activation='relu'))\n",
        "model.add(MaxPool2D())\n",
        "model.add(Dropout(0.1))\n",
        "\n",
        "model.add(Dense(64, activation='relu'))\n",
        "model.add(MaxPool2D())\n",
        "model.add(Dropout(0.1))\n",
        "\n",
        "model.add(Dense(32, activation='relu'))\n",
        "model.add(MaxPool2D())\n",
        "model.add(Dropout(0.1))\n",
        "\n",
        "model.add(Flatten())\n",
        "\n",
        "# Add final output layer - This should have as many neurons as the number\n",
        "# of classes we are trying to identify\n",
        "model.add(Dense(train_labels.shape[1], activation='sigmoid'))\n",
        "\n",
        "model.summary()\n"
      ],
      "execution_count": 57,
      "outputs": [
        {
          "output_type": "stream",
          "text": [
            "_________________________________________________________________\n",
            "Layer (type)                 Output Shape              Param #   \n",
            "=================================================================\n",
            "conv2d_5 (Conv2D)            (None, 64, 64, 18)        180       \n",
            "_________________________________________________________________\n",
            "dense_20 (Dense)             (None, 64, 64, 64)        1216      \n",
            "_________________________________________________________________\n",
            "max_pooling2d_15 (MaxPooling (None, 32, 32, 64)        0         \n",
            "_________________________________________________________________\n",
            "dropout_15 (Dropout)         (None, 32, 32, 64)        0         \n",
            "_________________________________________________________________\n",
            "dense_21 (Dense)             (None, 32, 32, 64)        4160      \n",
            "_________________________________________________________________\n",
            "max_pooling2d_16 (MaxPooling (None, 16, 16, 64)        0         \n",
            "_________________________________________________________________\n",
            "dropout_16 (Dropout)         (None, 16, 16, 64)        0         \n",
            "_________________________________________________________________\n",
            "dense_22 (Dense)             (None, 16, 16, 32)        2080      \n",
            "_________________________________________________________________\n",
            "max_pooling2d_17 (MaxPooling (None, 8, 8, 32)          0         \n",
            "_________________________________________________________________\n",
            "dropout_17 (Dropout)         (None, 8, 8, 32)          0         \n",
            "_________________________________________________________________\n",
            "flatten_5 (Flatten)          (None, 2048)              0         \n",
            "_________________________________________________________________\n",
            "dense_23 (Dense)             (None, 8)                 16392     \n",
            "=================================================================\n",
            "Total params: 24,028\n",
            "Trainable params: 24,028\n",
            "Non-trainable params: 0\n",
            "_________________________________________________________________\n"
          ],
          "name": "stdout"
        }
      ]
    },
    {
      "metadata": {
        "id": "3DwOWHAVMfZU",
        "colab_type": "text"
      },
      "cell_type": "markdown",
      "source": [
        "## Step 4\n",
        "Compile the model you designed. Compiltation of the Keras model results in the initialization of model weights and sets other model properties."
      ]
    },
    {
      "metadata": {
        "id": "azIn2h-PMfZV",
        "colab_type": "code",
        "colab": {}
      },
      "cell_type": "code",
      "source": [
        "model.compile(loss='categorical_crossentropy', optimizer=tf.train.RMSPropOptimizer(learning_rate=0.01), metrics=['accuracy'])"
      ],
      "execution_count": 0,
      "outputs": []
    },
    {
      "metadata": {
        "id": "9afYIYb6MfZZ",
        "colab_type": "text"
      },
      "cell_type": "markdown",
      "source": [
        "## Step 5\n",
        "Train model"
      ]
    },
    {
      "metadata": {
        "id": "_ngFO-dYMfZa",
        "colab_type": "code",
        "colab": {
          "base_uri": "https://localhost:8080/",
          "height": 734
        },
        "outputId": "d253b5a6-1210-4bd6-ce65-45d3ed6360fb"
      },
      "cell_type": "code",
      "source": [
        "y = model.fit(train_data, train_labels, epochs=20, validation_data=(val_data, val_labels))"
      ],
      "execution_count": 59,
      "outputs": [
        {
          "output_type": "stream",
          "text": [
            "Train on 3000 samples, validate on 1000 samples\n",
            "Epoch 1/20\n",
            "3000/3000 [==============================] - 4s 1ms/step - loss: 2.0438 - acc: 0.1427 - val_loss: 2.2038 - val_acc: 0.1230\n",
            "Epoch 2/20\n",
            "3000/3000 [==============================] - 3s 1ms/step - loss: 1.6592 - acc: 0.2827 - val_loss: 1.6424 - val_acc: 0.2610\n",
            "Epoch 3/20\n",
            "3000/3000 [==============================] - 3s 1ms/step - loss: 1.6084 - acc: 0.3143 - val_loss: 1.5002 - val_acc: 0.3480\n",
            "Epoch 4/20\n",
            "3000/3000 [==============================] - 3s 1ms/step - loss: 1.4149 - acc: 0.3713 - val_loss: 1.4258 - val_acc: 0.3790\n",
            "Epoch 5/20\n",
            "2144/3000 [====================>.........] - ETA: 0s - loss: 1.3556 - acc: 0.4100"
          ],
          "name": "stdout"
        },
        {
          "output_type": "stream",
          "text": [
            "3000/3000 [==============================] - 3s 1ms/step - loss: 1.3396 - acc: 0.4207 - val_loss: 1.3690 - val_acc: 0.4580\n",
            "Epoch 6/20\n",
            "3000/3000 [==============================] - 3s 1ms/step - loss: 1.2707 - acc: 0.4630 - val_loss: 1.3533 - val_acc: 0.4520\n",
            "Epoch 7/20\n",
            "3000/3000 [==============================] - 3s 1ms/step - loss: 1.2422 - acc: 0.4753 - val_loss: 1.4306 - val_acc: 0.4020\n",
            "Epoch 8/20\n",
            "3000/3000 [==============================] - 3s 1ms/step - loss: 1.1848 - acc: 0.4940 - val_loss: 1.2772 - val_acc: 0.5070\n",
            "Epoch 9/20\n",
            "3000/3000 [==============================] - 3s 1ms/step - loss: 1.1771 - acc: 0.5147 - val_loss: 1.2074 - val_acc: 0.5340\n",
            "Epoch 10/20\n",
            " 992/3000 [========>.....................] - ETA: 2s - loss: 1.0769 - acc: 0.5464"
          ],
          "name": "stdout"
        },
        {
          "output_type": "stream",
          "text": [
            "3000/3000 [==============================] - 3s 1ms/step - loss: 1.1040 - acc: 0.5480 - val_loss: 1.1682 - val_acc: 0.4490\n",
            "Epoch 11/20\n",
            "3000/3000 [==============================] - 3s 1ms/step - loss: 1.1550 - acc: 0.5427 - val_loss: 1.2544 - val_acc: 0.5540\n",
            "Epoch 12/20\n",
            "3000/3000 [==============================] - 3s 1ms/step - loss: 1.0933 - acc: 0.5640 - val_loss: 1.2011 - val_acc: 0.5510\n",
            "Epoch 13/20\n",
            "3000/3000 [==============================] - 3s 1ms/step - loss: 1.0577 - acc: 0.5830 - val_loss: 1.1254 - val_acc: 0.5410\n",
            "Epoch 14/20\n",
            "3000/3000 [==============================] - 3s 1ms/step - loss: 1.1097 - acc: 0.5827 - val_loss: 1.0987 - val_acc: 0.5950\n",
            "Epoch 15/20\n",
            " 864/3000 [=======>......................] - ETA: 2s - loss: 1.0541 - acc: 0.6007"
          ],
          "name": "stdout"
        },
        {
          "output_type": "stream",
          "text": [
            "3000/3000 [==============================] - 3s 1ms/step - loss: 1.0440 - acc: 0.5893 - val_loss: 1.1579 - val_acc: 0.5780\n",
            "Epoch 16/20\n",
            "3000/3000 [==============================] - 3s 1ms/step - loss: 1.0230 - acc: 0.5890 - val_loss: 1.1430 - val_acc: 0.5900\n",
            "Epoch 17/20\n",
            "3000/3000 [==============================] - 3s 1ms/step - loss: 0.9857 - acc: 0.6057 - val_loss: 1.2286 - val_acc: 0.4740\n",
            "Epoch 18/20\n",
            "3000/3000 [==============================] - 3s 1ms/step - loss: 1.0114 - acc: 0.5977 - val_loss: 1.1137 - val_acc: 0.5810\n",
            "Epoch 19/20\n",
            "3000/3000 [==============================] - 3s 1ms/step - loss: 0.9544 - acc: 0.6130 - val_loss: 1.0638 - val_acc: 0.6070\n",
            "Epoch 20/20\n",
            " 608/3000 [=====>........................] - ETA: 2s - loss: 0.9062 - acc: 0.6299"
          ],
          "name": "stdout"
        },
        {
          "output_type": "stream",
          "text": [
            "3000/3000 [==============================] - 3s 1ms/step - loss: 0.9500 - acc: 0.6247 - val_loss: 1.0010 - val_acc: 0.6240\n"
          ],
          "name": "stdout"
        }
      ]
    },
    {
      "metadata": {
        "id": "sjAqutu2MfZf",
        "colab_type": "text"
      },
      "cell_type": "markdown",
      "source": [
        "## Step 6\n",
        "See how your model performs by uisng it for inference.\n",
        "* What is the accuracy of classification ?\n",
        "* Change your model, re-compile and test. Can you improve the accuracy of the model ?\n"
      ]
    },
    {
      "metadata": {
        "id": "5M0N76AoMfZf",
        "colab_type": "code",
        "colab": {}
      },
      "cell_type": "code",
      "source": [
        "# predict labels - use the test set for prediction\n",
        "pred_labels = model.predict(test_data)"
      ],
      "execution_count": 0,
      "outputs": []
    },
    {
      "metadata": {
        "id": "Xnuyx0QFMfZk",
        "colab_type": "code",
        "colab": {
          "base_uri": "https://localhost:8080/",
          "height": 170
        },
        "outputId": "6eb3aaa5-e85e-4e5f-874a-07d244eff407"
      },
      "cell_type": "code",
      "source": [
        "from sklearn.metrics import accuracy_score\n",
        "from sklearn.metrics import confusion_matrix\n",
        "\n",
        "# We need to convert the categorical array test_labels into a vector\n",
        "# in order to use it in the calculation of the confusion matrix\n",
        "mat = confusion_matrix(np.argmax(test_labels, axis=1), np.argmax(pred_labels, axis=1))\n",
        "acc = accuracy_score(np.argmax(test_labels, axis=1), np.argmax(pred_labels, axis=1))\n",
        "print(acc)\n",
        "print(mat)"
      ],
      "execution_count": 61,
      "outputs": [
        {
          "output_type": "stream",
          "text": [
            "0.604\n",
            "[[ 54   2  28   1  33   0   0   0]\n",
            " [  4  30  13  26  30   0  10   0]\n",
            " [ 58   4  62   0  13   0   0   8]\n",
            " [  2   9   1  96   8   0   5   0]\n",
            " [ 14  19   3  12  79   0   4   1]\n",
            " [  0   0   1   0   0 119   0   0]\n",
            " [  2  12   0  12   9   0  92   0]\n",
            " [  0   0  12   0   0  40   0  72]]\n"
          ],
          "name": "stdout"
        }
      ]
    },
    {
      "metadata": {
        "id": "h7RYbDzyMfZm",
        "colab_type": "code",
        "colab": {
          "base_uri": "https://localhost:8080/",
          "height": 388
        },
        "outputId": "fe50abe2-68b6-4ab3-c76b-04241ba3c853"
      },
      "cell_type": "code",
      "source": [
        "plt.figure(figsize=(8,6))\n",
        "plt.imshow(mat, cmap='hot', interpolation='nearest')\n",
        "plt.grid(False)\n",
        "plt.colorbar()\n",
        "plt.xlabel('true label')\n",
        "plt.ylabel('predicted label')\n",
        "plt.show()"
      ],
      "execution_count": 62,
      "outputs": [
        {
          "output_type": "display_data",
          "data": {
            "image/png": "[encoded data removed]",
            "text/plain": [
              "<matplotlib.figure.Figure at 0x7efc411a9210>"
            ]
          },
          "metadata": {
            "tags": []
          }
        }
      ]
    },
    {
      "metadata": {
        "id": "p6atMD6vMfZs",
        "colab_type": "text"
      },
      "cell_type": "markdown",
      "source": [
        "## Assignment\n",
        "* In Step 3 design your own network\n",
        "* Does the model perform better if you use all three RGB channels ?\n",
        "* How does the performance change when using the La*b colorspace ?\n"
      ]
    },
    {
      "metadata": {
        "id": "HQ6qvyk4qntM",
        "colab_type": "code",
        "colab": {}
      },
      "cell_type": "code",
      "source": [
        "\n",
        "# Load data as RGB\n",
        "y = np.load(os.path.join(data_dir, 'rgb01.npz'))\n",
        "labels = y['labels']\n",
        "data_rgb = y['rgb_data']\n",
        "label_str = y['label_str']\n",
        "label_str = label_str.tolist() # this is to convert label_str back to a dictionary\n",
        "y = []\n",
        "\n",
        "print(data_rgb.shape)\n",
        "for ii in range(2,6):\n",
        "    filename = os.path.join(data_dir, 'rgb0' + str(ii) + '.npz')\n",
        "    print('loading ', filename)\n",
        "    y = np.load(filename)\n",
        "    labels = np.append(labels, y['labels'], axis=0)\n",
        "    data_rgb = np.append(data_rgb, y['rgb_data'])\n",
        "    print(data_rgb.shape)\n",
        "    y = []\n",
        "\n",
        "data_rgb = data_rgb.astype('float')\n",
        "data_rgb = data_rgb.reshape(5000, 150, 150, 3)\n",
        "\n",
        "print( data_rgb.shape )\n",
        "print( labels.shape )\n",
        "\n",
        "num_images, nrows, ncols, dims = data_rgb.shape"
      ],
      "execution_count": 0,
      "outputs": []
    }
  ]
}